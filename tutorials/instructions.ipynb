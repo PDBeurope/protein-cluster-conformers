{
 "cells": [
  {
   "attachments": {},
   "cell_type": "markdown",
   "metadata": {},
   "source": [
    "# Tutorial: Cluster monomeric protein conformations\n",
    "\n",
    "\n",
    "### Objectives:\n",
    " 1) Background\n",
    " 2) Cluster example UniProt (P46060) into predicted conformations\n",
    " 3) Interpret results\n",
    " 4) Perform conformational state clustering on provided benchmark dataset\n",
    " 5) Benchmark data results"
   ]
  },
  {
   "attachments": {},
   "cell_type": "markdown",
   "metadata": {},
   "source": [
    "## 1) Background and scope\n",
    "\n",
    "For a detailed explanation of the algorithm and linear algebra used to cluster peptide chains based on global backbone C-alpha position, refer to the supplementation information here (link to bioRx). In outline, the package aims to cluster the set of parsed peptide chains based on the global conformational change difference. \n",
    "\n",
    "The aim of this notebook is to outline basic use and potentially applications of the `protein-cluster-conformers` package within your own Python applicaitons. The package has it's own CLI interface, which is documented in the `README.md`. \n",
    "\n",
    "\n",
    "\n",
    "---"
   ]
  },
  {
   "attachments": {},
   "cell_type": "markdown",
   "metadata": {},
   "source": [
    "## 2) Installing and importing package\n",
    "\n",
    "### Using `pip`\n",
    "\n",
    "You can install the latest stable version of the package from the PDBe's PyPi page using:\n",
    "\n",
    "> `pip install protein-cluster-conformers`\n",
    "\n",
    "### From source \n",
    "\n",
    "The module also can be installed from GitHub using:\n",
    "\n",
    "> `git clone https://github.com/PDBeurope/protein-cluster-conformers.git`\n",
    "> \n",
    "> `cd protein-cluster-conformers`\n",
    "> \n",
    "> `pip install .`\n",
    "\n",
    "If you would like to make edits to the source code and have those changes immediately update, replace the final line with:\n",
    "\n",
    "> `pip install -e .`\n",
    "\n",
    "The package is written for >=Python3.10. \n",
    "\n",
    "Once installed, import the package into your code with:\n",
    "\n",
    "```python\n",
    "import cluster_conformers\n",
    "\n",
    "```\n",
    "\n",
    "`cluster_conformers` contains many useful tools to help you with downloading, clustering and analysing your results. The most important object for clustering can be imported via:\n",
    "\n",
    "```python\n",
    "import cluster_conformers.cluster_monomers import ClusterConformations\n",
    "```\n",
    "\n",
    "---"
   ]
  },
  {
   "attachments": {},
   "cell_type": "markdown",
   "metadata": {},
   "source": [
    "## 3) Example: Ran GTPase-activating protein 1 (UniProt: P46060)\n",
    "\n",
    "A detailed look at using the scripts from the command line can be found in the repository's `README.md` file. Detailed here are instructions and suggestions for implementing the clustering objects in your own Python code. \n",
    "\n",
    "The `ClusterConformations()` class can be used to handle the following tasks for clustering protein chains:\n",
    " - Creating pairwise CA distance matrices\n",
    " - Generate CA distance difference matrices between all chains\n",
    " - Scores global conformational changes based on these matrices\n",
    " - Cluster chains, via UPGMA clustering\n",
    " - Render dendrogram of clustering results and distance-difference maps per chain-chain comparison.\n",
    "\n",
    "Calling the class creates an object that can perform each of the options above via a set of method calls. \n",
    "\n",
    "NB: _Chains are treated as single subunits, regardless of whether they occur as biological or crystallographic assemblies._ \n",
    "\n",
    "#### 3.1) Download structures in updated mmCIF format\n",
    "\n",
    "To begin clustering, identify all chains which overlap the same stretch of a given UniProt sequence. Functionally, there is no limit to the amount of sequence overlap (higher is preferred) because the score function will handle this via its prefactor. However, structures with extremely little sequence overlap will return small scores, potentially getting clustered along with chains that truly share structural similarity. Gaps in the sequence are ignored when calculating chain-chain distance difference matrices but are accounted for in the score's pre-factor. \n",
    "\n",
    "Once all desired chains have been identified, you can quickly download them using the `fetch_updated_mmcif()` function. In the case of P46060, the code block below downloads all structures pertaining to the protein's C-terminal domain. The `fetch_updated_mmCIF()` function saves the structure files to your parsed directory, in the updated mmCIF file format. This format is especially important for clustering as it contains UniProt residue numbering from SIFTS, an essential index for matching residues between structures without performing an expensive sequence alignment. "
   ]
  },
  {
   "cell_type": "code",
   "execution_count": null,
   "metadata": {},
   "outputs": [],
   "source": [
    "from pathlib import Path\n",
    "\n",
    "from cluster_conformers.utils.download_utils import fetch_updated_mmcif\n",
    "\n",
    "# Save location -- change to yours\n",
    "path_save_ummcifs = Path(\n",
    "    \"updated_mmcifs\",\n",
    "    \"P46060\"\n",
    ")\n",
    "\n",
    "# All structures that overlap the same stretch of P46060\n",
    "pdb_structures = [\n",
    "    \"5d2m\",\n",
    "    \"5d2m\",\n",
    "    \"2grn\",\n",
    "    \"2grp\",\n",
    "    \"2grq\",\n",
    "    \"2gro\",\n",
    "    \"2grr\",\n",
    "    \"3uip\",\n",
    "    \"1z5s\",\n",
    "    \"3uin\",\n",
    "    \"2iy0\",\n",
    "    \"3uio\",\n",
    "    \"2io3\",\n",
    "    \"2io2\"\n",
    "]\n",
    "\n",
    "# Download structures\n",
    "for pdb in pdb_structures:\n",
    "    fetch_updated_mmcif(\n",
    "        pdb_code=pdb,\n",
    "        path_save=path_save_ummcifs\n",
    "    )\n"
   ]
  },
  {
   "attachments": {},
   "cell_type": "markdown",
   "metadata": {},
   "source": [
    "#### 3.2) Create clustering object\n",
    "\n",
    "All structures to be clustered are now available locally. Next, identify the chains to be parsed into the clustering object. `ClusterConformations()` reads the `label_asym_id` loop (sometimes called `struct_asym_id`) chain ID, so parsing in the author-specified (`auth_asym_id`) will return an error. \n",
    "\n",
    "`ClusterConformations()` reads in the structures to be clustered as a dictionary in the following format:\n",
    "\n",
    "```python\n",
    "input_dict = {\n",
    "        \"/path/to/updated/mmcif/1atp_updated.cif\" : ['A', 'B'],\n",
    "        \"/path/to/updated/mmcif/2adp_updated.cif\" : ['C', 'D', 'E'],\n",
    "        ...\n",
    "        \"/path/to/updated/mmcif/9amp_updated.cif\" : ['A', 'B', ... 'Z']\n",
    "}\n",
    "```\n",
    "\n",
    "The function `cluster_conformers.find_conformers.extract_structure_format` can be used to parse command-line input into this dictionary format. An input dictionary is prepared below before the clustering object `conformations` is initialised. "
   ]
  },
  {
   "cell_type": "code",
   "execution_count": null,
   "metadata": {},
   "outputs": [],
   "source": [
    "\n",
    "from cluster_conformers.cluster_monomers import ClusterConformations\n",
    "\n",
    "# Specify your chains for clustering\n",
    "input_dictionary = {\n",
    "    \"updated_mmcifs/P46060/5d2m_updated.cif\" : ['C', 'F'],\n",
    "    \"updated_mmcifs/P46060/2grn_updated.cif\" : ['B'],\n",
    "    \"updated_mmcifs/P46060/2grp_updated.cif\" : ['B'],\n",
    "    \"updated_mmcifs/P46060/2grq_updated.cif\" : ['B'],\n",
    "    \"updated_mmcifs/P46060/2gro_updated.cif\" : ['B'],\n",
    "    \"updated_mmcifs/P46060/2grr_updated.cif\" : ['B'],\n",
    "    \"updated_mmcifs/P46060/3uip_updated.cif\" : ['C'],\n",
    "    \"updated_mmcifs/P46060/1z5s_updated.cif\" : ['C'],\n",
    "    \"updated_mmcifs/P46060/3uin_updated.cif\" : ['C'],\n",
    "    \"updated_mmcifs/P46060/2iy0_updated.cif\" : ['C'],\n",
    "    \"updated_mmcifs/P46060/3uio_updated.cif\" : ['C'],\n",
    "    \"updated_mmcifs/P46060/2io3_updated.cif\" : ['C'],\n",
    "    \"updated_mmcifs/P46060/2io2_updated.cif\" : ['C']\n",
    "}\n",
    "\n",
    "# Create clustering object\n",
    "conformations = ClusterConformations(\n",
    "    unp=\"P46060\",\n",
    "    mmcifs_and_chains=input_dictionary\n",
    ")"
   ]
  },
  {
   "attachments": {},
   "cell_type": "markdown",
   "metadata": {},
   "source": [
    "By default, the object will run all future methods with 10 process (if available) and skip generation of matrices for extant files. To change these default, use the `nproc` and `force` arguments, respectively, where the latter regenerates all matrices, regardless of their existance. \n",
    "\n",
    "```python\n",
    "unp_cluster = cluster_monomers.ClusterConformations(\n",
    "        unp=\"A12345\",\n",
    "        mmcifs_and_chains={\n",
    "            \"/path/to/updated_mmcif.cif\" : ['A', 'B'],\n",
    "            ...\n",
    "        },\n",
    "        nproc=10,\n",
    "        force=True,\n",
    "    )\n",
    "```\n",
    "\n",
    "For most modern PCs, we find 10-cores is optimal for minimising runtime, although you may want to adjust this parameter to suit your hardware. "
   ]
  },
  {
   "attachments": {},
   "cell_type": "markdown",
   "metadata": {},
   "source": [
    " <img src=\"figures/multiprocessed_performance_benchmarked.png\" width=\"1000\"/>\n",
    " \n",
    " Specifications:\n",
    " - CPU: AMD Ryzen 9 5900X (24) @ 4.175GHz\n",
    " - Memory: 3501MiB / 32019MiB\n",
    " - Storage: 1TB Samsung M.2 NVMe 980PRO (SSD)\n",
    " - OS: Linux Mint 21 x86_64"
   ]
  },
  {
   "attachments": {},
   "cell_type": "markdown",
   "metadata": {},
   "source": [
    "Once the `conformations` object has been created, call the `.ca_distances()` method to generate all-to-all backbone C-alpha Euclidean distances between all observed residues in your set of parsed structures. Pairwise CA distances between each residue and every other residue must next be generated. "
   ]
  },
  {
   "cell_type": "code",
   "execution_count": null,
   "metadata": {},
   "outputs": [],
   "source": [
    "# Generate CA distance matrices\n",
    "conformations.ca_distance(\n",
    "    path_save_ca_matx=\"ca_distance_matrices\"\n",
    ")"
   ]
  },
  {
   "attachments": {},
   "cell_type": "markdown",
   "metadata": {},
   "source": [
    "The path to save the C-alpha distance matrices is saved by the object as `self.path_save_ca_matx`. Therefore, do not remove C-alpha matrices from the specified directory, unless this attribute is updated. \n",
    "\n",
    "C-alpha distance difference matrices must be generated before the clustering method `.cluster()` can be called. `.cluster()` requires two arguments: `path_save_dd_matx` and `path_save_cluster_results` to run. Although you may not require distance-difference matrices for later use, they are stored in order to reduce the program's memory overhead, which can be very large when many chains are parsed. An `N*N` matrix of `CA_ij - CA_ij` distances, where `N` represents the chain lengths and `i,j <= N`. These matrices are then saved to your hard drive and only a reference to it is saved in memory. To save space, the matrices are compressed to `.npz` serialised objects, floats converted to `float32` (it is unlikely any CA-CA distance exceeds the 32-bit limit) and elements below 3 Angstroms are set to 0."
   ]
  },
  {
   "cell_type": "code",
   "execution_count": null,
   "metadata": {},
   "outputs": [],
   "source": [
    "# Perform clustering and save results\n",
    "conformations.cluster(\n",
    "    path_save_dd_matx=\"distance_difference_matrices\",\n",
    "    path_save_cluster_results=\"cluster_results\"\n",
    ")"
   ]
  },
  {
   "attachments": {},
   "cell_type": "markdown",
   "metadata": {},
   "source": [
    "For an example of how to use `ClusterConformations()`, see `find_conformers.py` in the root of the repository. "
   ]
  },
  {
   "attachments": {},
   "cell_type": "markdown",
   "metadata": {},
   "source": [
    "##### 3.2.1) Including AlphaFold structures in clustering\n",
    "\n",
    "AlphaFold structures for the given UniProt can also be included in the clustering process. To do this, simply specify the `path_save_alphafold` argument when initialising a `ClusterConformations()` object. You do not need to install the AlpgaFold structure _a priori_, providing you have an internet connection. \n",
    "\n",
    "##### 3.2.2) Updating select chains\n",
    "\n",
    "To update only a selection of chains in the original set of parsed structures, use the `remove_entry_matxs()` method before calling `ca_distance()` and leave `force=False` (default). This method will remove the C-alpha distance matrices and distance-difference matrices for the specified chains, allowing them to be regenerated when `ca_distance()` and `cluster()` are called. For example:"
   ]
  },
  {
   "cell_type": "code",
   "execution_count": null,
   "metadata": {},
   "outputs": [],
   "source": [
    "\"\"\"\n",
    "Generate cluster object and perform clustering for set of chains, where \"1atp\" chain A has been changed. \n",
    "\"\"\"\n",
    "\n",
    "# Initialise cluster object with all chains for clustering\n",
    "conformers = ClusterConformations(\n",
    "    unp=\"A12345\",\n",
    "    mmcifs_and_chains={\n",
    "        \"updated_mmcifs/A12345/1atp_updated.cif\" : ['A'],\n",
    "        \"updated_mmcifs/A12345/1adp_updated.cif\" : ['B'],\n",
    "        \"updated_mmcifs/A12345/1amp_updated.cif\" : ['B'],\n",
    "    },\n",
    "    nproc=1,\n",
    "    force=False\n",
    ")\n",
    "\n",
    "# Remove existing matrices for updated entries -- they will be regenerated later\n",
    "conformations.remove_entry_matxs(\n",
    "    pdb_ids={\"1atp\"},       # Should be parsed as set\n",
    "    path_ca=\"/path/to/ca_distance_matrices\",\n",
    "    path_dd=\"/path/to/distance_difference_matrices\",\n",
    ")\n",
    "\n",
    "# Generate CA distance matrices -- only for updated entries, which were removed above\n",
    "conformations.ca_distance(\n",
    "    path_save_ca_matx=\"path/to/ca_distance_matrices\"\n",
    ")\n",
    "\n",
    "# Perform clustering and save results\n",
    "conformations.cluster(\n",
    "    path_save_dd_matx=\"path/to/distance_difference_matrices\",\n",
    "    path_save_cluster_results=\"path/to/cluster_results\"\n",
    ")"
   ]
  },
  {
   "attachments": {},
   "cell_type": "markdown",
   "metadata": {},
   "source": [
    "----\n",
    "\n",
    "## 3) Interpretting results\n",
    "\n",
    "Once clustering for the set of structures has been completed, the results can be visualised using the `render_dendrogram()` function. It requires the `path_save_cluster_results` argument, which should point to the same location as `path_save_cluster_results` when `.cluster()` was called. "
   ]
  },
  {
   "cell_type": "code",
   "execution_count": null,
   "metadata": {},
   "outputs": [],
   "source": [
    "from cluster_conformers.cluster_monomers import render_dendrogram\n",
    "\n",
    "# Render dendrogram \n",
    "render_dendrogram(\n",
    "    unp=\"A12345\",\n",
    "    # Generated by ClusterConformations.cluster()\n",
    "    path_results=\"path/to/cluster_results\",     \n",
    "    # Path to save dendrogram\n",
    "    path_save=\"/path/to/dendrogram\",\n",
    "    png=True,       # Save as png\n",
    "    svg=False,      # (and/or) Save as svg\n",
    ")"
   ]
  },
  {
   "attachments": {},
   "cell_type": "markdown",
   "metadata": {},
   "source": [
    " <img src=\"figures/kaib_segment1_dendogram.png\" width=\"500\"/>\n",
    "\n",
    "Example of PNG dendrogram rendered with the `render_dendrogram()` function. "
   ]
  },
  {
   "attachments": {},
   "cell_type": "markdown",
   "metadata": {},
   "source": [
    "You may also find it useful to visualise the distance-difference matrices generated from the clustering process. You can call the `make_dd_maps()` function to generate a series of heatmap PNGs. The function is called by the `find_conformers()` but its general usage is as follows:\n"
   ]
  },
  {
   "cell_type": "code",
   "execution_count": null,
   "metadata": {},
   "outputs": [],
   "source": [
    "from cluster_conformers.distance_differences import make_dd_maps\n",
    "\n",
    "make_dd_maps(\n",
    "    # Should be same as used in ClusterConformations.cluster()\n",
    "    path_matxs=\"path/to/distance_difference_matrices\",\n",
    "    path_save=\"path/to/dd_maps\",\n",
    "    force=False\n",
    ")"
   ]
  },
  {
   "attachments": {},
   "cell_type": "markdown",
   "metadata": {},
   "source": [
    "In order to work, the ClusterConformations.cluster() method must have been called with the `path_save_dd_matx` argument specified as `path_matxs` here. As many PNG images as matrices will be generated, so directories with many matrices could be time-consuming to render. The `force` argument can be used to regenerate all PNGs, regardless of their existance. \n",
    "\n",
    "Here is an example of a rendered distance-difference matrix:\n",
    "\n",
    " <img src=\"figures/A6UVT1_example_dd_map.png\" width=\"500\"/>\n",
    "\n",
    "Matrices will all be normalised their maximum value across all matrices in the parsed dircetory. Currently, this behaviour cannot be toggle, but it is often inconvinient to visualise matrices with different scales."
   ]
  },
  {
   "attachments": {},
   "cell_type": "markdown",
   "metadata": {},
   "source": [
    "----\n",
    "\n",
    "## 4) Cluster conformers in benchmark dataset\n",
    "\n",
    "Prior to September 2022, the PDBe-KB's clustering pipeline (of which the worker function used is described here) scored conformational differences based on the Q-score (a normalisation of RMSD) returned by the structural aligner GESAMT. Q-score is ordinarily used for scoring the superposition of parsed peptide chains, which are fragmented to obtain good alignment around structurally conserved regions. \n",
    "\n",
    "However, it was apparent high Q-scores (although leading to excellent structural alignment in many cases) would often be obtained for only the immobile regions of otherwise conformationally heterogenous peptides. This requently lead to distinct conformational states getting grouped together. \n",
    "\n",
    "Therefore, we developed a benchmark dataset (available on the PDBe's [FTP server](http://ftp.ebi.ac.uk/pub/databases/pdbe-kb/benchmarking/distinct-monomer-conformers/) and [Kaggle page](https://www.kaggle.com/datasets/josephellaway/distinct-monomeric-protein-conformers)) to test whether separating superposition from conformational state recognition (detailed [here](link_to_supp_information)) would mitigate this limitation. We found that it massively reduces the number of conformational states from a maxumum of 1,600 to only 9. \n",
    "\n",
    "The figure below graphcially summarises the contents of this benchmark dataset.\n",
    "\n",
    " <img src=\"figures/monomer_benchmark_ds_summary_info.png\" width=\"700\"/>\n",
    "\n",
    "Some additional tools have been provided to facilitate easy access to the PDBe-KB's clustering data. \n",
    "\n",
    "\n"
   ]
  }
 ],
 "metadata": {
  "kernelspec": {
   "display_name": "Python 3.7.14 64-bit",
   "language": "python",
   "name": "python3"
  },
  "language_info": {
   "codemirror_mode": {
    "name": "ipython",
    "version": 3
   },
   "file_extension": ".py",
   "mimetype": "text/x-python",
   "name": "python",
   "nbconvert_exporter": "python",
   "pygments_lexer": "ipython3",
   "version": "3.7.14"
  },
  "orig_nbformat": 4,
  "vscode": {
   "interpreter": {
    "hash": "e774977668b7c0ae8309835a5187aa7fbf7669e7d0bb59755bc63e573643edcd"
   }
  }
 },
 "nbformat": 4,
 "nbformat_minor": 2
}
